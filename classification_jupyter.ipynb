{
 "cells": [
  {
   "cell_type": "code",
   "execution_count": 1,
   "metadata": {},
   "outputs": [
    {
     "name": "stdout",
     "output_type": "stream",
     "text": [
      "Collecting tensorflow-datasets\n",
      "  Downloading tensorflow_datasets-4.9.7-py3-none-any.whl (5.3 MB)\n",
      "     ---------------------------------------- 0.0/5.3 MB ? eta -:--:--\n",
      "     ------------- -------------------------- 1.8/5.3 MB 58.8 MB/s eta 0:00:01\n",
      "     ---------------------------------------  5.3/5.3 MB 67.7 MB/s eta 0:00:01\n",
      "     ---------------------------------------- 5.3/5.3 MB 48.6 MB/s eta 0:00:00\n",
      "Collecting tensorflow-metadata\n",
      "  Downloading tensorflow_metadata-1.16.1-py3-none-any.whl (28 kB)\n",
      "Requirement already satisfied: absl-py in c:\\users\\epsy green\\appdata\\local\\programs\\python\\python310\\lib\\site-packages (from tensorflow-datasets) (2.1.0)\n",
      "Requirement already satisfied: wrapt in c:\\users\\epsy green\\appdata\\local\\programs\\python\\python310\\lib\\site-packages (from tensorflow-datasets) (1.14.1)\n",
      "Collecting immutabledict\n",
      "  Downloading immutabledict-4.2.1-py3-none-any.whl (4.7 kB)\n",
      "Requirement already satisfied: pyarrow in c:\\users\\epsy green\\appdata\\local\\programs\\python\\python310\\lib\\site-packages (from tensorflow-datasets) (12.0.0)\n",
      "Collecting promise\n",
      "  Downloading promise-2.3.tar.gz (19 kB)\n",
      "  Preparing metadata (setup.py): started\n",
      "  Preparing metadata (setup.py): finished with status 'done'\n",
      "Requirement already satisfied: numpy in c:\\users\\epsy green\\appdata\\local\\programs\\python\\python310\\lib\\site-packages (from tensorflow-datasets) (1.26.4)\n",
      "Requirement already satisfied: termcolor in c:\\users\\epsy green\\appdata\\local\\programs\\python\\python310\\lib\\site-packages (from tensorflow-datasets) (2.3.0)\n",
      "Collecting etils[edc,enp,epath,epy,etree]>=1.6.0\n",
      "  Downloading etils-1.12.0-py3-none-any.whl (166 kB)\n",
      "     ---------------------------------------- 0.0/166.6 kB ? eta -:--:--\n",
      "     ---------------------------------------- 166.6/166.6 kB ? eta 0:00:00\n",
      "Collecting simple-parsing\n",
      "  Downloading simple_parsing-0.1.7-py3-none-any.whl (112 kB)\n",
      "     ---------------------------------------- 0.0/112.8 kB ? eta -:--:--\n",
      "     ---------------------------------------- 112.8/112.8 kB ? eta 0:00:00\n",
      "Requirement already satisfied: click in c:\\users\\epsy green\\appdata\\local\\programs\\python\\python310\\lib\\site-packages (from tensorflow-datasets) (8.1.7)\n",
      "Collecting dm-tree\n",
      "  Downloading dm_tree-0.1.9-cp310-cp310-win_amd64.whl (101 kB)\n",
      "     ---------------------------------------- 0.0/101.5 kB ? eta -:--:--\n",
      "     ---------------------------------------- 101.5/101.5 kB ? eta 0:00:00\n",
      "Requirement already satisfied: protobuf>=3.20 in c:\\users\\epsy green\\appdata\\local\\programs\\python\\python310\\lib\\site-packages (from tensorflow-datasets) (3.20.3)\n",
      "Requirement already satisfied: toml in c:\\users\\epsy green\\appdata\\local\\programs\\python\\python310\\lib\\site-packages (from tensorflow-datasets) (0.10.2)\n",
      "Requirement already satisfied: tqdm in c:\\users\\epsy green\\appdata\\local\\programs\\python\\python310\\lib\\site-packages (from tensorflow-datasets) (4.66.2)\n",
      "Requirement already satisfied: psutil in c:\\users\\epsy green\\appdata\\roaming\\python\\python310\\site-packages (from tensorflow-datasets) (5.9.5)\n",
      "Requirement already satisfied: requests>=2.19.0 in c:\\users\\epsy green\\appdata\\local\\programs\\python\\python310\\lib\\site-packages (from tensorflow-datasets) (2.31.0)\n",
      "Requirement already satisfied: typing_extensions in c:\\users\\epsy green\\appdata\\local\\programs\\python\\python310\\lib\\site-packages (from etils[edc,enp,epath,epy,etree]>=1.6.0->tensorflow-datasets) (4.12.2)\n",
      "Requirement already satisfied: importlib_resources in c:\\users\\epsy green\\appdata\\local\\programs\\python\\python310\\lib\\site-packages (from etils[edc,enp,epath,epy,etree]>=1.6.0->tensorflow-datasets) (6.0.1)\n",
      "Requirement already satisfied: zipp in c:\\users\\epsy green\\appdata\\local\\programs\\python\\python310\\lib\\site-packages (from etils[edc,enp,epath,epy,etree]>=1.6.0->tensorflow-datasets) (3.15.0)\n",
      "Requirement already satisfied: fsspec in c:\\users\\epsy green\\appdata\\local\\programs\\python\\python310\\lib\\site-packages (from etils[edc,enp,epath,epy,etree]>=1.6.0->tensorflow-datasets) (2023.5.0)\n",
      "Requirement already satisfied: certifi>=2017.4.17 in c:\\users\\epsy green\\appdata\\local\\programs\\python\\python310\\lib\\site-packages (from requests>=2.19.0->tensorflow-datasets) (2022.12.7)\n",
      "Requirement already satisfied: idna<4,>=2.5 in c:\\users\\epsy green\\appdata\\local\\programs\\python\\python310\\lib\\site-packages (from requests>=2.19.0->tensorflow-datasets) (2.10)\n",
      "Requirement already satisfied: charset-normalizer<4,>=2 in c:\\users\\epsy green\\appdata\\local\\programs\\python\\python310\\lib\\site-packages (from requests>=2.19.0->tensorflow-datasets) (3.0.1)\n",
      "Requirement already satisfied: urllib3<3,>=1.21.1 in c:\\users\\epsy green\\appdata\\local\\programs\\python\\python310\\lib\\site-packages (from requests>=2.19.0->tensorflow-datasets) (2.2.2)\n",
      "Requirement already satisfied: colorama in c:\\users\\epsy green\\appdata\\local\\programs\\python\\python310\\lib\\site-packages (from click->tensorflow-datasets) (0.4.6)\n",
      "Requirement already satisfied: attrs>=18.2.0 in c:\\users\\epsy green\\appdata\\local\\programs\\python\\python310\\lib\\site-packages (from dm-tree->tensorflow-datasets) (22.2.0)\n",
      "Requirement already satisfied: six in c:\\users\\epsy green\\appdata\\local\\programs\\python\\python310\\lib\\site-packages (from promise->tensorflow-datasets) (1.16.0)\n",
      "Collecting docstring-parser<1.0,>=0.15\n",
      "  Downloading docstring_parser-0.16-py3-none-any.whl (36 kB)\n",
      "Building wheels for collected packages: promise\n",
      "  Building wheel for promise (setup.py): started\n",
      "  Building wheel for promise (setup.py): finished with status 'done'\n",
      "  Created wheel for promise: filename=promise-2.3-py3-none-any.whl size=21547 sha256=feb32d920f9823d46ab96fab54e4950d1c0af54f041f5324c144b726b6701867\n",
      "  Stored in directory: c:\\users\\epsy green\\appdata\\local\\pip\\cache\\wheels\\54\\4e\\28\\3ed0e1c8a752867445bab994d2340724928aa3ab059c57c8db\n",
      "Successfully built promise\n",
      "Installing collected packages: tensorflow-metadata, promise, immutabledict, etils, docstring-parser, dm-tree, simple-parsing, tensorflow-datasets\n",
      "Successfully installed dm-tree-0.1.9 docstring-parser-0.16 etils-1.12.0 immutabledict-4.2.1 promise-2.3 simple-parsing-0.1.7 tensorflow-datasets-4.9.7 tensorflow-metadata-1.16.1\n"
     ]
    },
    {
     "name": "stderr",
     "output_type": "stream",
     "text": [
      "C:\\Users\\EPSY GREEN\\AppData\\Local\\Programs\\Python\\Python310\\lib\\site-packages\\_distutils_hack\\__init__.py:33: UserWarning: Setuptools is replacing distutils.\n",
      "  warnings.warn(\"Setuptools is replacing distutils.\")\n",
      "\n",
      "[notice] A new release of pip is available: 23.0.1 -> 25.0.1\n",
      "[notice] To update, run: python.exe -m pip install --upgrade pip\n"
     ]
    },
    {
     "name": "stdout",
     "output_type": "stream",
     "text": [
      "2.17.0\n"
     ]
    }
   ],
   "source": [
    "# import libraries\n",
    "try:\n",
    "  # %tensorflow_version only exists in Colab.\n",
    "  %pip install tf-nightly\n",
    "except Exception:\n",
    "  pass\n",
    "import tensorflow as tf\n",
    "import pandas as pd\n",
    "from tensorflow import keras\n",
    "%pip install tensorflow-datasets\n",
    "import tensorflow_datasets as tfds\n",
    "import numpy as np\n",
    "import matplotlib.pyplot as plt\n",
    "\n",
    "print(tf.__version__)"
   ]
  },
  {
   "cell_type": "code",
   "execution_count": 3,
   "metadata": {},
   "outputs": [],
   "source": [
    "import pandas as pd\n",
    "import numpy as np\n",
    "from sklearn.feature_extraction.text import CountVectorizer\n",
    "from sklearn.naive_bayes import MultinomialNB"
   ]
  },
  {
   "cell_type": "code",
   "execution_count": null,
   "metadata": {},
   "outputs": [
    {
     "name": "stderr",
     "output_type": "stream",
     "text": [
      "  % Total    % Received % Xferd  Average Speed   Time    Time     Time  Current\n",
      "                                 Dload  Upload   Total   Spent    Left  Speed\n",
      "\n",
      "  0     0    0     0    0     0      0      0 --:--:-- --:--:-- --:--:--     0\n",
      "  0     0    0     0    0     0      0      0 --:--:-- --:--:-- --:--:--     0\n",
      "curl: (35) schannel: next InitializeSecurityContext failed: CRYPT_E_NO_REVOCATION_CHECK (0x80092012) - La fonction de r�vocation n�a pas pu v�rifier la r�vocation du certificat.\n",
      "  % Total    % Received % Xferd  Average Speed   Time    Time     Time  Current\n",
      "                                 Dload  Upload   Total   Spent    Left  Speed\n",
      "\n",
      "  0     0    0     0    0     0      0      0 --:--:-- --:--:-- --:--:--     0\n",
      "  0     0    0     0    0     0      0      0 --:--:-- --:--:-- --:--:--     0\n",
      "curl: (35) schannel: next InitializeSecurityContext failed: CRYPT_E_NO_REVOCATION_CHECK (0x80092012) - La fonction de r�vocation n�a pas pu v�rifier la r�vocation du certificat.\n"
     ]
    }
   ],
   "source": [
    "# get data files\n",
    "!wget https://cdn.freecodecamp.org/project-data/sms/train-data.tsv\n",
    "!wget https://cdn.freecodecamp.org/project-data/sms/valid-data.tsv\n",
    "\n",
    "train_file_path = \"train-data.tsv\"\n",
    "test_file_path = \"valid-data.tsv\""
   ]
  },
  {
   "cell_type": "code",
   "execution_count": 6,
   "metadata": {},
   "outputs": [],
   "source": [
    "# Load dataset\n",
    "def load_data(file_path):\n",
    "    df = pd.read_csv(file_path, sep='\\t', header=None, names=['label', 'message'])\n",
    "    df['label'] = df['label'].map({'ham': 0, 'spam': 1})  # Convert labels to 0 (ham) and 1 (spam)\n",
    "    return df"
   ]
  },
  {
   "cell_type": "code",
   "execution_count": 8,
   "metadata": {},
   "outputs": [],
   "source": [
    "train_file_path = \"train-data.tsv\"\n",
    "test_file_path = \"valid-data.tsv\"\n",
    "train_data = load_data(train_file_path)\n",
    "test_data = load_data(test_file_path)"
   ]
  },
  {
   "cell_type": "code",
   "execution_count": 9,
   "metadata": {},
   "outputs": [],
   "source": [
    "# Feature extraction - convert the text messages into numerical features\n",
    "vectorizer = CountVectorizer(stop_words='english')\n",
    "X_train = vectorizer.fit_transform(train_data['message'])\n",
    "y_train = train_data['label']"
   ]
  },
  {
   "cell_type": "code",
   "execution_count": 11,
   "metadata": {},
   "outputs": [],
   "source": [
    "\n",
    "# Additional features for training data\n",
    "def extract_features(messages):\n",
    "    features = pd.DataFrame()\n",
    "    # Length of message\n",
    "    features['length'] = messages.apply(len)\n",
    "    # Count of digits\n",
    "    features['digit_count'] = messages.apply(lambda x: sum(c.isdigit() for c in x))\n",
    "    # Count of special characters\n",
    "    features['special_char_count'] = messages.apply(lambda x: sum(c in \"!@#$%^&*()-+=<>?/|\\\\\" for c in x))\n",
    "    # Count of uppercase words (often used in spam)\n",
    "    features['uppercase_count'] = messages.apply(lambda x: sum(w.isupper() for w in x.split() if len(w) > 1))\n",
    "    # Count of spam indicators\n",
    "    spam_indicators = [\"free\", \"win\", \"won\", \"prize\", \"cash\", \"call\", \"text\", \"urgent\", \"claim\", \"click\", \"offer\", \"limited\"]\n",
    "    features['spam_indicator_count'] = messages.apply(lambda x: sum(w.lower() in spam_indicators for w in x.split()))\n",
    "    # Presence of phone numbers (crude check)\n",
    "    features['has_phone'] = messages.apply(lambda x: 1 if sum(c.isdigit() for c in x) > 8 else 0)\n",
    "    # Money symbols\n",
    "    features['has_money_symbol'] = messages.apply(lambda x: 1 if any(c in x for c in \"£$€\") else 0)\n",
    "\n",
    "    return features"
   ]
  },
  {
   "cell_type": "code",
   "execution_count": 12,
   "metadata": {},
   "outputs": [
    {
     "data": {
      "text/html": [
       "<style>#sk-container-id-1 {color: black;background-color: white;}#sk-container-id-1 pre{padding: 0;}#sk-container-id-1 div.sk-toggleable {background-color: white;}#sk-container-id-1 label.sk-toggleable__label {cursor: pointer;display: block;width: 100%;margin-bottom: 0;padding: 0.3em;box-sizing: border-box;text-align: center;}#sk-container-id-1 label.sk-toggleable__label-arrow:before {content: \"▸\";float: left;margin-right: 0.25em;color: #696969;}#sk-container-id-1 label.sk-toggleable__label-arrow:hover:before {color: black;}#sk-container-id-1 div.sk-estimator:hover label.sk-toggleable__label-arrow:before {color: black;}#sk-container-id-1 div.sk-toggleable__content {max-height: 0;max-width: 0;overflow: hidden;text-align: left;background-color: #f0f8ff;}#sk-container-id-1 div.sk-toggleable__content pre {margin: 0.2em;color: black;border-radius: 0.25em;background-color: #f0f8ff;}#sk-container-id-1 input.sk-toggleable__control:checked~div.sk-toggleable__content {max-height: 200px;max-width: 100%;overflow: auto;}#sk-container-id-1 input.sk-toggleable__control:checked~label.sk-toggleable__label-arrow:before {content: \"▾\";}#sk-container-id-1 div.sk-estimator input.sk-toggleable__control:checked~label.sk-toggleable__label {background-color: #d4ebff;}#sk-container-id-1 div.sk-label input.sk-toggleable__control:checked~label.sk-toggleable__label {background-color: #d4ebff;}#sk-container-id-1 input.sk-hidden--visually {border: 0;clip: rect(1px 1px 1px 1px);clip: rect(1px, 1px, 1px, 1px);height: 1px;margin: -1px;overflow: hidden;padding: 0;position: absolute;width: 1px;}#sk-container-id-1 div.sk-estimator {font-family: monospace;background-color: #f0f8ff;border: 1px dotted black;border-radius: 0.25em;box-sizing: border-box;margin-bottom: 0.5em;}#sk-container-id-1 div.sk-estimator:hover {background-color: #d4ebff;}#sk-container-id-1 div.sk-parallel-item::after {content: \"\";width: 100%;border-bottom: 1px solid gray;flex-grow: 1;}#sk-container-id-1 div.sk-label:hover label.sk-toggleable__label {background-color: #d4ebff;}#sk-container-id-1 div.sk-serial::before {content: \"\";position: absolute;border-left: 1px solid gray;box-sizing: border-box;top: 0;bottom: 0;left: 50%;z-index: 0;}#sk-container-id-1 div.sk-serial {display: flex;flex-direction: column;align-items: center;background-color: white;padding-right: 0.2em;padding-left: 0.2em;position: relative;}#sk-container-id-1 div.sk-item {position: relative;z-index: 1;}#sk-container-id-1 div.sk-parallel {display: flex;align-items: stretch;justify-content: center;background-color: white;position: relative;}#sk-container-id-1 div.sk-item::before, #sk-container-id-1 div.sk-parallel-item::before {content: \"\";position: absolute;border-left: 1px solid gray;box-sizing: border-box;top: 0;bottom: 0;left: 50%;z-index: -1;}#sk-container-id-1 div.sk-parallel-item {display: flex;flex-direction: column;z-index: 1;position: relative;background-color: white;}#sk-container-id-1 div.sk-parallel-item:first-child::after {align-self: flex-end;width: 50%;}#sk-container-id-1 div.sk-parallel-item:last-child::after {align-self: flex-start;width: 50%;}#sk-container-id-1 div.sk-parallel-item:only-child::after {width: 0;}#sk-container-id-1 div.sk-dashed-wrapped {border: 1px dashed gray;margin: 0 0.4em 0.5em 0.4em;box-sizing: border-box;padding-bottom: 0.4em;background-color: white;}#sk-container-id-1 div.sk-label label {font-family: monospace;font-weight: bold;display: inline-block;line-height: 1.2em;}#sk-container-id-1 div.sk-label-container {text-align: center;}#sk-container-id-1 div.sk-container {/* jupyter's `normalize.less` sets `[hidden] { display: none; }` but bootstrap.min.css set `[hidden] { display: none !important; }` so we also need the `!important` here to be able to override the default hidden behavior on the sphinx rendered scikit-learn.org. See: https://github.com/scikit-learn/scikit-learn/issues/21755 */display: inline-block !important;position: relative;}#sk-container-id-1 div.sk-text-repr-fallback {display: none;}</style><div id=\"sk-container-id-1\" class=\"sk-top-container\"><div class=\"sk-text-repr-fallback\"><pre>MultinomialNB()</pre><b>In a Jupyter environment, please rerun this cell to show the HTML representation or trust the notebook. <br />On GitHub, the HTML representation is unable to render, please try loading this page with nbviewer.org.</b></div><div class=\"sk-container\" hidden><div class=\"sk-item\"><div class=\"sk-estimator sk-toggleable\"><input class=\"sk-toggleable__control sk-hidden--visually\" id=\"sk-estimator-id-1\" type=\"checkbox\" checked><label for=\"sk-estimator-id-1\" class=\"sk-toggleable__label sk-toggleable__label-arrow\">MultinomialNB</label><div class=\"sk-toggleable__content\"><pre>MultinomialNB()</pre></div></div></div></div></div>"
      ],
      "text/plain": [
       "MultinomialNB()"
      ]
     },
     "execution_count": 12,
     "metadata": {},
     "output_type": "execute_result"
    }
   ],
   "source": [
    "\n",
    "# Extract additional features\n",
    "train_additional_features = extract_features(train_data['message'])\n",
    "\n",
    "# Train a Naive Bayes classifier\n",
    "clf = MultinomialNB()\n",
    "clf.fit(X_train, y_train)"
   ]
  },
  {
   "cell_type": "code",
   "execution_count": 13,
   "metadata": {},
   "outputs": [],
   "source": [
    "\n",
    "# Function to predict if a message is spam or ham\n",
    "def predict_message(message):\n",
    "    # Transform the message using the vectorizer\n",
    "    message_counts = vectorizer.transform([message])\n",
    "\n",
    "    # Extract additional features\n",
    "    message_features = extract_features(pd.Series([message]))\n",
    "\n",
    "    # Get the probability of spam\n",
    "    spam_probability = clf.predict_proba(message_counts)[0][1]\n",
    "\n",
    "    # Adjust probability based on additional features\n",
    "    if message_features['has_phone'].values[0] == 1:\n",
    "        spam_probability += 0.2\n",
    "    if message_features['has_money_symbol'].values[0] == 1:\n",
    "        spam_probability += 0.2\n",
    "    if message_features['spam_indicator_count'].values[0] > 0:\n",
    "        spam_probability += 0.15 * message_features['spam_indicator_count'].values[0]\n",
    "    if message_features['uppercase_count'].values[0] > 1:\n",
    "        spam_probability += 0.1\n",
    "\n",
    "    # Ensure probability is between 0 and 1\n",
    "    spam_probability = min(max(spam_probability, 0), 1)\n",
    "\n",
    "    # Return the result\n",
    "    label = 'spam' if spam_probability > 0.5 else 'ham'\n",
    "    return [spam_probability, label]"
   ]
  },
  {
   "cell_type": "code",
   "execution_count": 14,
   "metadata": {},
   "outputs": [],
   "source": [
    "# Test function (do not modify)\n",
    "def test_predictions():\n",
    "    test_messages = [\"how are you doing today\",\n",
    "                    \"sale today! to stop texts call 98912460324\",\n",
    "                    \"i dont want to go. can we try it a different day? available sat\",\n",
    "                    \"our new mobile video service is live. just install on your phone to start watching.\",\n",
    "                    \"you have won £1000 cash! call to claim your prize.\",\n",
    "                    \"i'll bring it tomorrow. don't forget the milk.\",\n",
    "                    \"wow, is your arm alright. that happened to me one time too\"\n",
    "                   ]\n",
    "    test_answers = [\"ham\", \"spam\", \"ham\", \"spam\", \"spam\", \"ham\", \"ham\"]\n",
    "\n",
    "    passed = True\n",
    "    for msg, ans in zip(test_messages, test_answers):\n",
    "        prediction = predict_message(msg)\n",
    "        print(f\"Message: {msg}\")\n",
    "        print(f\"Prediction: {prediction[1]}, Expected: {ans}\")\n",
    "        print(f\"Probability: {prediction[0]:.4f}\")\n",
    "        print(\"---\")\n",
    "        if prediction[1] != ans:\n",
    "            passed = False\n",
    "\n",
    "    if passed:\n",
    "        print(\"You passed the challenge. Great job!\")\n",
    "    else:\n",
    "        print(\"You haven't passed yet. Keep trying.\")"
   ]
  },
  {
   "cell_type": "code",
   "execution_count": 15,
   "metadata": {},
   "outputs": [
    {
     "name": "stdout",
     "output_type": "stream",
     "text": [
      "Message: how are you doing today\n",
      "Prediction: ham, Expected: ham\n",
      "Probability: 0.0015\n",
      "---\n",
      "Message: sale today! to stop texts call 98912460324\n",
      "Prediction: spam, Expected: spam\n",
      "Probability: 1.0000\n",
      "---\n",
      "Message: i dont want to go. can we try it a different day? available sat\n",
      "Prediction: ham, Expected: ham\n",
      "Probability: 0.0000\n",
      "---\n",
      "Message: our new mobile video service is live. just install on your phone to start watching.\n",
      "Prediction: spam, Expected: spam\n",
      "Probability: 0.9953\n",
      "---\n",
      "Message: you have won £1000 cash! call to claim your prize.\n",
      "Prediction: spam, Expected: spam\n",
      "Probability: 1.0000\n",
      "---\n",
      "Message: i'll bring it tomorrow. don't forget the milk.\n",
      "Prediction: ham, Expected: ham\n",
      "Probability: 0.0000\n",
      "---\n",
      "Message: wow, is your arm alright. that happened to me one time too\n",
      "Prediction: ham, Expected: ham\n",
      "Probability: 0.0003\n",
      "---\n",
      "You passed the challenge. Great job!\n"
     ]
    }
   ],
   "source": [
    "test_predictions()"
   ]
  },
  {
   "cell_type": "code",
   "execution_count": 17,
   "metadata": {},
   "outputs": [
    {
     "data": {
      "text/plain": [
       "[0.9999999993431175, 'spam']"
      ]
     },
     "execution_count": 17,
     "metadata": {},
     "output_type": "execute_result"
    }
   ],
   "source": [
    "predict_message(\"message important information for o2 user. today is your lucky day! 2 find out why log onto http://www.urawinner.com there is a fantastic surprise awaiting you\")"
   ]
  }
 ],
 "metadata": {
  "kernelspec": {
   "display_name": "Python 3",
   "language": "python",
   "name": "python3"
  },
  "language_info": {
   "codemirror_mode": {
    "name": "ipython",
    "version": 3
   },
   "file_extension": ".py",
   "mimetype": "text/x-python",
   "name": "python",
   "nbconvert_exporter": "python",
   "pygments_lexer": "ipython3",
   "version": "3.10.8"
  }
 },
 "nbformat": 4,
 "nbformat_minor": 2
}
